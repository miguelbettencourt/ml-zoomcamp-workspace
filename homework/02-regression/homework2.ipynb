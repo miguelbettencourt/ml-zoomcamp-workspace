{
 "cells": [
  {
   "cell_type": "markdown",
   "id": "107c8757",
   "metadata": {},
   "source": [
    "# Homework 2"
   ]
  },
  {
   "cell_type": "code",
   "execution_count": 1,
   "id": "72ff1cfc",
   "metadata": {},
   "outputs": [],
   "source": [
    "import pandas as pd\n",
    "import numpy as np\n",
    "import matplotlib.pyplot as plt"
   ]
  },
  {
   "cell_type": "code",
   "execution_count": 2,
   "id": "25345529",
   "metadata": {},
   "outputs": [],
   "source": [
    "# Load the dataset\n",
    "df = pd.read_csv('car_fuel_efficiency.csv')\n",
    "\n",
    "columns = [\n",
    "    'engine_displacement',\n",
    "    'horsepower',\n",
    "    'vehicle_weight',\n",
    "    'model_year',\n",
    "    'fuel_efficiency_mpg'\n",
    "]\n",
    "\n",
    "df = df[columns]\n"
   ]
  },
  {
   "cell_type": "code",
   "execution_count": 3,
   "id": "96a87217",
   "metadata": {},
   "outputs": [
    {
     "data": {
      "image/png": "[encoded data removed]",
      "text/plain": [
       "<Figure size 800x500 with 1 Axes>"
      ]
     },
     "metadata": {},
     "output_type": "display_data"
    },
    {
     "name": "stdout",
     "output_type": "stream",
     "text": [
      "Skewness of fuel_efficiency_mpg: -0.01\n"
     ]
    }
   ],
   "source": [
    "\n",
    "plt.figure(figsize=(8, 5))\n",
    "plt.hist(df['fuel_efficiency_mpg'], bins=30, edgecolor='k')\n",
    "plt.xlabel('Fuel Efficiency (mpg)')\n",
    "plt.ylabel('Frequency')\n",
    "plt.title('Distribution of Fuel Efficiency (mpg)')\n",
    "plt.show()\n",
    "\n",
    "skewness = df['fuel_efficiency_mpg'].skew()\n",
    "print(f\"Skewness of fuel_efficiency_mpg: {skewness:.2f}\")\n"
   ]
  },
  {
   "cell_type": "markdown",
   "id": "9a745970",
   "metadata": {},
   "source": [
    "## Question 1"
   ]
  },
  {
   "cell_type": "code",
   "execution_count": 4,
   "id": "80a92113",
   "metadata": {},
   "outputs": [
    {
     "name": "stdout",
     "output_type": "stream",
     "text": [
      "Missing values in each column:\n",
      "engine_displacement      0\n",
      "horsepower             708\n",
      "vehicle_weight           0\n",
      "model_year               0\n",
      "fuel_efficiency_mpg      0\n",
      "dtype: int64\n"
     ]
    }
   ],
   "source": [
    "missing_values = df.isnull().sum()\n",
    "print(\"Missing values in each column:\")\n",
    "print(missing_values)"
   ]
  },
  {
   "cell_type": "markdown",
   "id": "c1671e20",
   "metadata": {},
   "source": [
    "## Question 2"
   ]
  },
  {
   "cell_type": "code",
   "execution_count": 5,
   "id": "9f8e408a",
   "metadata": {},
   "outputs": [
    {
     "name": "stdout",
     "output_type": "stream",
     "text": [
      "Median (50% percentile) of 'horsepower': 149.0\n"
     ]
    }
   ],
   "source": [
    "median_horsepower = df['horsepower'].median()\n",
    "print(f\"Median (50% percentile) of 'horsepower': {median_horsepower}\")\n"
   ]
  },
  {
   "cell_type": "code",
   "execution_count": 6,
   "id": "17800e99",
   "metadata": {},
   "outputs": [
    {
     "name": "stdout",
     "output_type": "stream",
     "text": [
      "Train set: 5822 rows\n",
      "Validation set: 1940 rows\n",
      "Test set: 1942 rows\n"
     ]
    }
   ],
   "source": [
    "n = len(df)\n",
    "idx = np.arange(n)\n",
    "np.random.seed(42)\n",
    "np.random.shuffle(idx)\n",
    "\n",
    "df_shuffled = df.iloc[idx].reset_index(drop=True)\n",
    "\n",
    "n_train = int(0.6 * n)\n",
    "n_val = int(0.2 * n)\n",
    "n_test = n - n_train - n_val\n",
    "\n",
    "df_train = df_shuffled.iloc[:n_train].reset_index(drop=True)\n",
    "df_val = df_shuffled.iloc[n_train:n_train+n_val].reset_index(drop=True)\n",
    "df_test = df_shuffled.iloc[n_train+n_val:].reset_index(drop=True)\n",
    "\n",
    "print(f\"Train set: {len(df_train)} rows\")\n",
    "print(f\"Validation set: {len(df_val)} rows\")\n",
    "print(f\"Test set: {len(df_test)} rows\")\n"
   ]
  },
  {
   "cell_type": "markdown",
   "id": "4b69d7ae",
   "metadata": {},
   "source": [
    "## Question 3"
   ]
  },
  {
   "cell_type": "code",
   "execution_count": 7,
   "id": "d6fe064a",
   "metadata": {},
   "outputs": [
    {
     "name": "stdout",
     "output_type": "stream",
     "text": [
      "RMSE with 0 imputation: 0.52\n",
      "RMSE with mean imputation: 0.46\n"
     ]
    }
   ],
   "source": [
    "\n",
    "from sklearn.linear_model import LinearRegression\n",
    "from sklearn.metrics import mean_squared_error\n",
    "\n",
    "# Features to use (excluding the target)\n",
    "features = [\n",
    "    'engine_displacement',\n",
    "    'horsepower',\n",
    "    'vehicle_weight',\n",
    "    'model_year'\n",
    "]\n",
    "target = 'fuel_efficiency_mpg'\n",
    "\n",
    "# Prepare training and validation sets\n",
    "X_train = df_train[features].copy()\n",
    "y_train = df_train[target].values\n",
    "\n",
    "X_val = df_val[features].copy()\n",
    "y_val = df_val[target].values\n",
    "\n",
    "# Option 1: Fill missing 'horsepower' with 0\n",
    "X_train_0 = X_train.copy()\n",
    "X_val_0 = X_val.copy()\n",
    "X_train_0['horsepower'] = X_train_0['horsepower'].fillna(0)\n",
    "X_val_0['horsepower'] = X_val_0['horsepower'].fillna(0)\n",
    "\n",
    "model_0 = LinearRegression()\n",
    "model_0.fit(X_train_0, y_train)\n",
    "y_pred_0 = model_0.predict(X_val_0)\n",
    "rmse_0 = mean_squared_error(y_val, y_pred_0)\n",
    "rmse_0 = round(np.sqrt(rmse_0), 2)\n",
    "print(f\"RMSE with 0 imputation: {rmse_0}\")\n",
    "\n",
    "# Option 2: Fill missing 'horsepower' with mean (from training set only)\n",
    "mean_hp = X_train['horsepower'].mean()\n",
    "X_train_mean = X_train.copy()\n",
    "X_val_mean = X_val.copy()\n",
    "X_train_mean['horsepower'] = X_train_mean['horsepower'].fillna(mean_hp)\n",
    "X_val_mean['horsepower'] = X_val_mean['horsepower'].fillna(mean_hp)\n",
    "\n",
    "model_mean = LinearRegression()\n",
    "model_mean.fit(X_train_mean, y_train)\n",
    "y_pred_mean = model_mean.predict(X_val_mean)\n",
    "rmse_mean = mean_squared_error(y_val, y_pred_mean)\n",
    "rmse_mean = round(np.sqrt(rmse_mean), 2)\n",
    "print(f\"RMSE with mean imputation: {rmse_mean}\")\n"
   ]
  },
  {
   "cell_type": "markdown",
   "id": "053a46e6",
   "metadata": {},
   "source": [
    "## Question 4"
   ]
  },
  {
   "cell_type": "code",
   "execution_count": 8,
   "id": "57b26ad4",
   "metadata": {},
   "outputs": [
    {
     "name": "stdout",
     "output_type": "stream",
     "text": [
      "r=0: RMSE=0.52\n",
      "r=0.01: RMSE=0.52\n",
      "r=0.1: RMSE=0.52\n",
      "r=1: RMSE=0.52\n",
      "r=5: RMSE=0.52\n",
      "r=10: RMSE=0.52\n",
      "r=100: RMSE=0.52\n",
      "\n",
      "Best r: 0 with RMSE: 0.52\n"
     ]
    }
   ],
   "source": [
    "from sklearn.linear_model import Ridge\n",
    "\n",
    "r_values = [0, 0.01, 0.1, 1, 5, 10, 100]\n",
    "rmse_scores = []\n",
    "\n",
    "for r in r_values:\n",
    "    model = Ridge(alpha=r)\n",
    "    model.fit(X_train_0, y_train)\n",
    "    y_pred = model.predict(X_val_0)\n",
    "    mse = mean_squared_error(y_val, y_pred)\n",
    "    rmse = round(np.sqrt(mse), 2)\n",
    "    rmse_scores.append(rmse)\n",
    "    print(f\"r={r}: RMSE={rmse}\")\n",
    "\n",
    "best_rmse = min(rmse_scores)\n",
    "best_r_indices = [i for i, score in enumerate(rmse_scores) if score == best_rmse]\n",
    "best_r = r_values[min(best_r_indices)]\n",
    "print(f\"\\nBest r: {best_r} with RMSE: {best_rmse}\")\n"
   ]
  },
  {
   "cell_type": "markdown",
   "id": "17f998f5",
   "metadata": {},
   "source": [
    "## Question 5"
   ]
  },
  {
   "cell_type": "code",
   "execution_count": 9,
   "id": "538914b7",
   "metadata": {},
   "outputs": [
    {
     "name": "stdout",
     "output_type": "stream",
     "text": [
      "Standard deviation of RMSEs: 0.007\n"
     ]
    }
   ],
   "source": [
    "from sklearn.model_selection import train_test_split\n",
    "\n",
    "rmse_scores = []\n",
    "seeds = list(range(10))\n",
    "\n",
    "for seed in seeds:\n",
    "    df_shuffled = df.sample(frac=1, random_state=seed).reset_index(drop=True)\n",
    "    n = len(df_shuffled)\n",
    "    n_train = int(n * 0.6)\n",
    "    n_val = int(n * 0.2)\n",
    "    n_test = n - n_train - n_val\n",
    "\n",
    "    df_train = df_shuffled.iloc[:n_train]\n",
    "    df_val = df_shuffled.iloc[n_train:n_train+n_val]\n",
    "    df_test = df_shuffled.iloc[n_train+n_val:]\n",
    "\n",
    "    X_train = df_train.drop('fuel_efficiency_mpg', axis=1)\n",
    "    y_train = df_train['fuel_efficiency_mpg']\n",
    "    X_val = df_val.drop('fuel_efficiency_mpg', axis=1)\n",
    "    y_val = df_val['fuel_efficiency_mpg']\n",
    "\n",
    "    X_train_0 = X_train.fillna(0)\n",
    "    X_val_0 = X_val.fillna(0)\n",
    "\n",
    "    model = LinearRegression()\n",
    "    model.fit(X_train_0, y_train)\n",
    "    y_pred = model.predict(X_val_0)\n",
    "    mse = mean_squared_error(y_val, y_pred)\n",
    "    rmse = np.sqrt(mse)\n",
    "    rmse_scores.append(rmse)\n",
    "\n",
    "std = np.std(rmse_scores)\n",
    "std_rounded = round(std, 3)\n",
    "print(f\"Standard deviation of RMSEs: {std_rounded}\")\n"
   ]
  },
  {
   "cell_type": "markdown",
   "id": "a003cda3",
   "metadata": {},
   "source": [
    "## Question 6"
   ]
  },
  {
   "cell_type": "code",
   "execution_count": 10,
   "id": "9904fe6d",
   "metadata": {},
   "outputs": [
    {
     "name": "stdout",
     "output_type": "stream",
     "text": [
      "RMSE on test set: 0.515\n"
     ]
    }
   ],
   "source": [
    "df_shuffled = df.sample(frac=1, random_state=9).reset_index(drop=True)\n",
    "\n",
    "n = len(df_shuffled)\n",
    "n_train = int(n * 0.6)\n",
    "n_val = int(n * 0.2)\n",
    "n_test = n - n_train - n_val\n",
    "\n",
    "df_train = df_shuffled.iloc[:n_train]\n",
    "df_val = df_shuffled.iloc[n_train:n_train+n_val]\n",
    "df_test = df_shuffled.iloc[n_train+n_val:]\n",
    "\n",
    "df_full_train = pd.concat([df_train, df_val]).reset_index(drop=True)\n",
    "\n",
    "X_full_train = df_full_train.drop('fuel_efficiency_mpg', axis=1)\n",
    "y_full_train = df_full_train['fuel_efficiency_mpg']\n",
    "X_test = df_test.drop('fuel_efficiency_mpg', axis=1)\n",
    "y_test = df_test['fuel_efficiency_mpg']\n",
    "\n",
    "X_full_train_0 = X_full_train.fillna(0)\n",
    "X_test_0 = X_test.fillna(0)\n",
    "\n",
    "model = Ridge(alpha=0.001)\n",
    "model.fit(X_full_train_0, y_full_train)\n",
    "y_pred = model.predict(X_test_0)\n",
    "mse = mean_squared_error(y_test, y_pred)\n",
    "rmse = np.sqrt(mse)\n",
    "rmse_rounded = round(rmse, 3)\n",
    "print(f\"RMSE on test set: {rmse_rounded}\")\n"
   ]
  }
 ],
 "metadata": {
  "kernelspec": {
   "display_name": "ml-zoomcamp",
   "language": "python",
   "name": "python3"
  },
  "language_info": {
   "codemirror_mode": {
    "name": "ipython",
    "version": 3
   },
   "file_extension": ".py",
   "mimetype": "text/x-python",
   "name": "python",
   "nbconvert_exporter": "python",
   "pygments_lexer": "ipython3",
   "version": "3.11.13"
  }
 },
 "nbformat": 4,
 "nbformat_minor": 5
}
