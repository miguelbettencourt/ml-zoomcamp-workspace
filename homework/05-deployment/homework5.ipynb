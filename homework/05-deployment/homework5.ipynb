{
 "cells": [
  {
   "cell_type": "markdown",
   "id": "c65d5b09",
   "metadata": {},
   "source": [
    "# Homework 5"
   ]
  },
  {
   "cell_type": "markdown",
   "id": "3fd25c47",
   "metadata": {},
   "source": [
    "## Question 1"
   ]
  },
  {
   "cell_type": "markdown",
   "id": "6c8f06cd",
   "metadata": {},
   "source": [
    "uv --version \n",
    "\n",
    "uv 0.7.16 (b6b7409d1 2025-06-27)"
   ]
  },
  {
   "cell_type": "markdown",
   "id": "a1bddca0",
   "metadata": {},
   "source": [
    "## Question 2"
   ]
  },
  {
   "cell_type": "markdown",
   "id": "96da56cd",
   "metadata": {},
   "source": [
    "sha256:b4fc2525eca2c69a59260f583c56a7557c6ccdf8deafdba6e060f94c1c59738e\n"
   ]
  },
  {
   "cell_type": "markdown",
   "id": "5e16dc60",
   "metadata": {},
   "source": [
    "## Question 3"
   ]
  },
  {
   "cell_type": "markdown",
   "id": "727c9d9c",
   "metadata": {},
   "source": [
    "The probability that this lead will convert is 0.534.\n"
   ]
  },
  {
   "cell_type": "markdown",
   "id": "cbe2a09e",
   "metadata": {},
   "source": [
    "# Question 4"
   ]
  },
  {
   "cell_type": "code",
   "execution_count": null,
   "id": "02abe28f",
   "metadata": {},
   "outputs": [],
   "source": [
    "import pickle\n",
    "from fastapi import FastAPI\n",
    "from pydantic import BaseModel\n",
    "\n",
    "with open('pipeline_v1.bin', 'rb') as f:\n",
    "    pipeline = pickle.load(f)\n",
    "\n",
    "app = FastAPI()\n",
    "\n",
    "class LeadData(BaseModel):\n",
    "    lead_source: str\n",
    "    number_of_courses_viewed: int\n",
    "    annual_income: float\n",
    "\n",
    "@app.get(\"/\")\n",
    "def read_root():\n",
    "    return {\"message\": \"Lead Scoring API\"}\n",
    "\n",
    "@app.post(\"/predict\")\n",
    "def predict_lead_conversion(lead_data: LeadData):\n",
    "    record = {\n",
    "        \"lead_source\": lead_data.lead_source,\n",
    "        \"number_of_courses_viewed\": lead_data.number_of_courses_viewed,\n",
    "        \"annual_income\": lead_data.annual_income\n",
    "    }\n",
    "    \n",
    "    # Get probability\n",
    "    probability = pipeline.predict_proba([record])[0][1]\n",
    "    \n",
    "    return {\"probability\": probability}\n"
   ]
  },
  {
   "cell_type": "code",
   "execution_count": null,
   "id": "d21afef4",
   "metadata": {},
   "outputs": [],
   "source": [
    "import requests\n",
    "\n",
    "url = \"http://localhost:8000/predict\"\n",
    "client = {\n",
    "    \"lead_source\": \"organic_search\",\n",
    "    \"number_of_courses_viewed\": 4,\n",
    "    \"annual_income\": 80304.0\n",
    "}\n",
    "\n",
    "response = requests.post(url, json=client)\n",
    "result = response.json()\n",
    "\n",
    "print(f\"Probability that this client will get a subscription: {result['probability']:.3f}\")\n"
   ]
  },
  {
   "cell_type": "markdown",
   "id": "a0b7930e",
   "metadata": {},
   "source": [
    "# Question 5"
   ]
  },
  {
   "cell_type": "code",
   "execution_count": null,
   "metadata": {
    "vscode": {
     "languageId": "bash"
    }
   },
   "outputs": [],
   "source": [
    "docker pull agrigorev/zoomcamp-model:2025\n",
    "\n",
    "docker images agrigorev/zoomcamp-model:2025\n"
   ]
  },
  {
   "cell_type": "markdown",
   "id": "61400faf",
   "metadata": {},
   "source": [
    "The size of the base image `agrigorev/zoomcamp-model:2025` is 181MB (121MB closest match)\n"
   ]
  },
  {
   "cell_type": "markdown",
   "id": "3195fc94",
   "metadata": {},
   "source": [
    "## Question 6"
   ]
  },
  {
   "cell_type": "markdown",
   "id": "53ead907",
   "metadata": {},
   "source": [
    "Dockerfile:\n",
    "```dockerfile\n",
    "FROM agrigorev/zoomcamp-model:2025\n",
    "\n",
    "# Install FastAPI, uvicorn, requests, and scikit-learn\n",
    "RUN pip install fastapi uvicorn requests scikit-learn==1.6.1\n",
    "\n",
    "# Copy the pipeline file and FastAPI script\n",
    "COPY pipeline_v1.bin main.py ./\n",
    "\n",
    "# Expose port 8000\n",
    "EXPOSE 8000\n",
    "\n",
    "# Run the FastAPI application\n",
    "CMD [\"uvicorn\", \"main:app\", \"--host\", \"0.0.0.0\", \"--port\", \"8000\"]\n",
    "```\n"
   ]
  },
  {
   "cell_type": "markdown",
   "id": "be3eef27",
   "metadata": {},
   "source": [
    "Build and run commands:\n",
    "```bash\n",
    "# Build the Docker image\n",
    "docker build -t lead-scoring-api .\n",
    "\n",
    "# Run the container\n",
    "docker run -d -p 8000:8000 --name lead-scoring-container lead-scoring-api\n",
    "\n",
    "# Test the API\n",
    "curl -X POST \"http://localhost:8000/predict\" \\\n",
    "  -H \"Content-Type: application/json\" \\\n",
    "  -d '{\"lead_source\": \"organic_search\", \"number_of_courses_viewed\": 4, \"annual_income\": 80304.0}'\n",
    "```"
   ]
  },
  {
   "cell_type": "markdown",
   "id": "15484668",
   "metadata": {},
   "source": []
  }
 ],
 "metadata": {
  "kernelspec": {
   "display_name": "ml-zoomcamp",
   "language": "python",
   "name": "python3"
  },
  "language_info": {
   "codemirror_mode": {
    "name": "ipython",
    "version": 3
   },
   "file_extension": ".py",
   "mimetype": "text/x-python",
   "name": "python",
   "nbconvert_exporter": "python",
   "pygments_lexer": "ipython3",
   "version": "3.11.13"
  }
 },
 "nbformat": 4,
 "nbformat_minor": 5
}
